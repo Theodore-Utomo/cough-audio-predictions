{
 "cells": [
  {
   "cell_type": "code",
   "execution_count": 1,
   "id": "4c92e808-1d38-4b0c-b84b-7a890e167132",
   "metadata": {},
   "outputs": [],
   "source": [
    "import os\n",
    "import pandas as pd\n",
    "import numpy as np\n",
    "from sklearn.model_selection import train_test_split\n",
    "from tensorflow.keras.preprocessing.image import load_img, img_to_array\n",
    "from tensorflow.keras.models import Sequential\n",
    "from tensorflow.keras.layers import Conv2D, MaxPooling2D, Flatten, Dense, Dropout, BatchNormalization, GlobalAveragePooling2D\n",
    "from tensorflow.keras.optimizers import Adam\n",
    "from tensorflow.keras.callbacks import EarlyStopping, ReduceLROnPlateau  # Added ReduceLROnPlateau for learning rate scheduling\n",
    "from tqdm import tqdm\n",
    "import glob\n",
    "import matplotlib.pyplot as plt\n",
    "import torch\n",
    "import torch.nn as nn\n",
    "import torch.nn.functional as F\n",
    "import random\n",
    "from sklearn.metrics import confusion_matrix, classification_report\n",
    "from torch.utils.data import Dataset, DataLoader\n",
    "from typing import Literal\n",
    "from pathlib import Path\n",
    "from PIL import Image"
   ]
  },
  {
   "cell_type": "code",
   "execution_count": 2,
   "id": "2d0da667-aec0-4992-b39b-f307b2cd7980",
   "metadata": {},
   "outputs": [
    {
     "data": {
      "text/plain": [
       "array([1315, 15476, 3873], dtype=object)"
      ]
     },
     "execution_count": 2,
     "metadata": {},
     "output_type": "execute_result"
    }
   ],
   "source": [
    "X = np.load(\"X_128x128.npy\", allow_pickle=True)\n",
    "y = np.load(\"y_128x128.npy\", allow_pickle=True)\n",
    "np.sum(y, axis=0)"
   ]
  },
  {
   "cell_type": "code",
   "execution_count": 16,
   "id": "a306df77-2d66-40aa-8df9-f2b9e380fdfb",
   "metadata": {},
   "outputs": [
    {
     "name": "stdout",
     "output_type": "stream",
     "text": [
      "new_y shape: (20664, 2)\n",
      "[[1 0]\n",
      " [1 0]\n",
      " [1 0]\n",
      " [1 0]\n",
      " [1 0]\n",
      " [0 1]\n",
      " [1 0]\n",
      " [1 0]\n",
      " [1 0]\n",
      " [0 1]]\n"
     ]
    }
   ],
   "source": [
    "# Assuming y is one-hot encoded with 3 classes: \n",
    "# y = [[1, 0, 0],  # COVID\n",
    "#      [0, 1, 0],  # Healthy\n",
    "#      [0, 0, 1]]  # Symptomatic\n",
    "\n",
    "# Step 1: Convert y to integer labels (0 for COVID, 1 for Healthy, 2 for Symptomatic)\n",
    "y_combined = np.argmax(y, axis=1)  # This will give us an array of indices: 0, 1, or 2\n",
    "\n",
    "# Step 2: Combine symptomatic (class 2) and COVID (class 0) into one category (class 1), leave healthy (class 1) as it is\n",
    "new_y = np.where(np.isin(y_combined, [0, 2]), 1, 0)  # Map COVID and Symptomatic to class 1, healthy to class 0\n",
    "\n",
    "# Step 3: Convert the new labels to one-hot encoding (2 classes: healthy vs symptomatic or COVID)\n",
    "new_y = np.array([[1, 0] if label == 0 else [0, 1] for label in new_y])\n",
    "\n",
    "# Verify the shape of the new y\n",
    "print(f\"new_y shape: {new_y.shape}\")  # It should be (n_samples, 2)\n",
    "\n",
    "# Check the first few rows of the new_y to confirm it's correct\n",
    "print(new_y[:10])  # Display the first 10 rows to check"
   ]
  },
  {
   "cell_type": "code",
   "execution_count": 22,
   "id": "36b16d29-e776-43be-8261-ca2363c75842",
   "metadata": {},
   "outputs": [
    {
     "name": "stdout",
     "output_type": "stream",
     "text": [
      "Total number of COVID or symptomatic cases: 5188\n",
      "Total number of COVID or symptomatic cases: 15476\n"
     ]
    }
   ],
   "source": [
    "# Sum the COVID\n",
    "covid_and_symptomatic_sum = np.sum(new_y[:,1])\n",
    "\n",
    "print(f\"Total number of COVID or symptomatic cases: {covid_and_symptomatic_sum}\")\n",
    "\n",
    "# Sum the Healthy \n",
    "healthy_sum = np.sum(new_y[:,0])\n",
    "\n",
    "print(f\"Total number of COVID or symptomatic cases: {healthy_sum}\")"
   ]
  },
  {
   "cell_type": "code",
   "execution_count": 17,
   "id": "7ea232d6-2026-4fc3-9f78-fd8cb75c2dc0",
   "metadata": {},
   "outputs": [],
   "source": [
    "# === Train-test split ===\n",
    "X_train, X_test, y_train, y_test = train_test_split(\n",
    "    X, new_y, test_size=0.2, stratify=y.argmax(axis=1), random_state=42\n",
    ")\n",
    "\n",
    "# === Convert X and y to appropriate formats ===\n",
    "X_train = np.array(X_train, dtype=np.float32)\n",
    "X_test = np.array(X_test, dtype=np.float32)\n",
    "y_train = np.array(y_train, dtype=np.float32)\n",
    "y_test = np.array(y_test, dtype=np.float32)"
   ]
  },
  {
   "cell_type": "code",
   "execution_count": null,
   "id": "63254147-97a2-4a02-bbe2-b423603c3725",
   "metadata": {},
   "outputs": [
    {
     "name": "stderr",
     "output_type": "stream",
     "text": [
      "/Library/Frameworks/Python.framework/Versions/3.11/lib/python3.11/site-packages/keras/src/layers/convolutional/base_conv.py:107: UserWarning: Do not pass an `input_shape`/`input_dim` argument to a layer. When using Sequential models, prefer using an `Input(shape)` object as the first layer in the model instead.\n",
      "  super().__init__(activity_regularizer=activity_regularizer, **kwargs)\n"
     ]
    },
    {
     "name": "stdout",
     "output_type": "stream",
     "text": [
      "Epoch 1/30\n",
      "\u001b[1m465/465\u001b[0m \u001b[32m━━━━━━━━━━━━━━━━━━━━\u001b[0m\u001b[37m\u001b[0m \u001b[1m136s\u001b[0m 290ms/step - accuracy: 0.7378 - loss: 0.5917 - val_accuracy: 0.7509 - val_loss: 0.5607 - learning_rate: 5.0000e-04\n",
      "Epoch 2/30\n",
      "\u001b[1m465/465\u001b[0m \u001b[32m━━━━━━━━━━━━━━━━━━━━\u001b[0m\u001b[37m\u001b[0m \u001b[1m140s\u001b[0m 286ms/step - accuracy: 0.7529 - loss: 0.5635 - val_accuracy: 0.7509 - val_loss: 0.5617 - learning_rate: 5.0000e-04\n",
      "Epoch 3/30\n",
      "\u001b[1m465/465\u001b[0m \u001b[32m━━━━━━━━━━━━━━━━━━━━\u001b[0m\u001b[37m\u001b[0m \u001b[1m134s\u001b[0m 288ms/step - accuracy: 0.7530 - loss: 0.5608 - val_accuracy: 0.7509 - val_loss: 0.5621 - learning_rate: 5.0000e-04\n",
      "Epoch 4/30\n",
      "\u001b[1m465/465\u001b[0m \u001b[32m━━━━━━━━━━━━━━━━━━━━\u001b[0m\u001b[37m\u001b[0m \u001b[1m133s\u001b[0m 287ms/step - accuracy: 0.7517 - loss: 0.5618 - val_accuracy: 0.7509 - val_loss: 0.5650 - learning_rate: 1.5000e-04\n",
      "Epoch 5/30\n",
      "\u001b[1m465/465\u001b[0m \u001b[32m━━━━━━━━━━━━━━━━━━━━\u001b[0m\u001b[37m\u001b[0m \u001b[1m133s\u001b[0m 287ms/step - accuracy: 0.7490 - loss: 0.5632 - val_accuracy: 0.7509 - val_loss: 0.5596 - learning_rate: 1.5000e-04\n",
      "Epoch 6/30\n",
      "\u001b[1m465/465\u001b[0m \u001b[32m━━━━━━━━━━━━━━━━━━━━\u001b[0m\u001b[37m\u001b[0m \u001b[1m134s\u001b[0m 289ms/step - accuracy: 0.7451 - loss: 0.5665 - val_accuracy: 0.7509 - val_loss: 0.5585 - learning_rate: 1.5000e-04\n",
      "Epoch 7/30\n",
      "\u001b[1m180/465\u001b[0m \u001b[32m━━━━━━━\u001b[0m\u001b[37m━━━━━━━━━━━━━\u001b[0m \u001b[1m1:20\u001b[0m 283ms/step - accuracy: 0.7458 - loss: 0.5654"
     ]
    }
   ],
   "source": [
    "# === Update Model with Suggested Changes ===\n",
    "from tensorflow.keras.callbacks import ReduceLROnPlateau, EarlyStopping\n",
    "from tensorflow.keras.optimizers import Adam\n",
    "\n",
    "# === CNN Model Definition ===\n",
    "model = Sequential([\n",
    "    # First Convolutional Layer\n",
    "    Conv2D(32, (3, 3), activation='relu', input_shape=(128, 128, 3)),\n",
    "    BatchNormalization(),\n",
    "    MaxPooling2D(2, 2),\n",
    "\n",
    "    # Second Convolutional Layer\n",
    "    Conv2D(64, (3, 3), activation='relu'),\n",
    "    BatchNormalization(),\n",
    "    MaxPooling2D(2, 2),\n",
    "\n",
    "    # Third Convolutional Layer\n",
    "    Conv2D(128, (3, 3), activation='relu'),\n",
    "    BatchNormalization(),\n",
    "    MaxPooling2D(2, 2),\n",
    "\n",
    "    # Global Average Pooling instead of Flattening\n",
    "    GlobalAveragePooling2D(),\n",
    "    \n",
    "    # Dropout to prevent overfitting\n",
    "    Dropout(0.5),  # Increase dropout\n",
    "\n",
    "    # Fully Connected Layer\n",
    "    Dense(128, activation='relu'),\n",
    "    \n",
    "    # Output Layer (2 classes: healthy and symptomatic_or_COVID)\n",
    "    Dense(2, activation='softmax')\n",
    "])\n",
    "\n",
    "# === Compile the model ===\n",
    "model.compile(optimizer=Adam(learning_rate=0.0005), loss='categorical_crossentropy', metrics=['accuracy'])  # Lower learning rate\n",
    "\n",
    "# === Early Stopping Callback ===\n",
    "early_stopping = EarlyStopping(\n",
    "    monitor='val_loss',  # Monitor the validation loss\n",
    "    patience=7,  # Patience increased to 7 epochs\n",
    "    restore_best_weights=True\n",
    ")\n",
    "\n",
    "# === Learning Rate Scheduling ===\n",
    "reduce_lr = ReduceLROnPlateau(\n",
    "    monitor='val_loss', \n",
    "    factor=0.3,  # Reduce learning rate by 30%\n",
    "    patience=2,  # Wait for 2 epochs without improvement before reducing LR\n",
    "    min_lr=1e-6  # Lower bound for the learning rate\n",
    ")\n",
    "\n",
    "# === Train the Model with Class Weights ===\n",
    "history = model.fit(\n",
    "    X_train, y_train,\n",
    "    epochs=30,  # Use a higher number of epochs to allow the model to learn better\n",
    "    batch_size=32,\n",
    "    validation_split=0.1,\n",
    "    callbacks=[early_stopping, reduce_lr]\n",
    ")\n",
    "\n",
    "# === Evaluate Model ===\n",
    "loss, acc = model.evaluate(X_test, y_test)\n",
    "print(f\"Test Accuracy: {acc:.2%}\")"
   ]
  },
  {
   "cell_type": "code",
   "execution_count": 23,
   "id": "b1e89309-725b-4d30-96fa-832a5ceb951d",
   "metadata": {},
   "outputs": [
    {
     "name": "stdout",
     "output_type": "stream",
     "text": [
      "\u001b[1m130/130\u001b[0m \u001b[32m━━━━━━━━━━━━━━━━━━━━\u001b[0m\u001b[37m\u001b[0m \u001b[1m5s\u001b[0m 38ms/step\n",
      "Classification Report:\n",
      "                      precision    recall  f1-score   support\n",
      "\n",
      "             healthy       0.75      1.00      0.86      3095\n",
      "symptomatic or COVID       0.00      0.00      0.00      1038\n",
      "\n",
      "            accuracy                           0.75      4133\n",
      "           macro avg       0.37      0.50      0.43      4133\n",
      "        weighted avg       0.56      0.75      0.64      4133\n",
      "\n"
     ]
    },
    {
     "name": "stderr",
     "output_type": "stream",
     "text": [
      "/Library/Frameworks/Python.framework/Versions/3.11/lib/python3.11/site-packages/sklearn/metrics/_classification.py:1531: UndefinedMetricWarning: Precision is ill-defined and being set to 0.0 in labels with no predicted samples. Use `zero_division` parameter to control this behavior.\n",
      "  _warn_prf(average, modifier, f\"{metric.capitalize()} is\", len(result))\n",
      "/Library/Frameworks/Python.framework/Versions/3.11/lib/python3.11/site-packages/sklearn/metrics/_classification.py:1531: UndefinedMetricWarning: Precision is ill-defined and being set to 0.0 in labels with no predicted samples. Use `zero_division` parameter to control this behavior.\n",
      "  _warn_prf(average, modifier, f\"{metric.capitalize()} is\", len(result))\n",
      "/Library/Frameworks/Python.framework/Versions/3.11/lib/python3.11/site-packages/sklearn/metrics/_classification.py:1531: UndefinedMetricWarning: Precision is ill-defined and being set to 0.0 in labels with no predicted samples. Use `zero_division` parameter to control this behavior.\n",
      "  _warn_prf(average, modifier, f\"{metric.capitalize()} is\", len(result))\n"
     ]
    },
    {
     "data": {
      "image/png": "[encoded data removed]",
      "text/plain": [
       "<Figure size 640x480 with 2 Axes>"
      ]
     },
     "metadata": {},
     "output_type": "display_data"
    }
   ],
   "source": [
    "# === Evaluate the Model ===\n",
    "# Get predictions from the model\n",
    "y_pred = model.predict(X_test)  # Predict on X_test\n",
    "y_pred_classes = np.argmax(y_pred, axis=1)  # Get class predictions (argmax for the softmax output)\n",
    "\n",
    "# Convert y_test from one-hot encoding to integer labels (healthy = 0, COVID/symptomatic = 1)\n",
    "y_test_classes = np.argmax(y_test, axis=1)\n",
    "\n",
    "# === Compute confusion matrix ===\n",
    "cm = confusion_matrix(y_test_classes, y_pred_classes)\n",
    "\n",
    "# === Print classification report ===\n",
    "print(\"Classification Report:\")\n",
    "print(classification_report(\n",
    "    y_test_classes,\n",
    "    y_pred_classes,\n",
    "    target_names=['healthy', 'symptomatic or COVID']\n",
    "))\n",
    "\n",
    "# === (Optional) Plot the confusion matrix ===\n",
    "fig, ax = plt.subplots()\n",
    "im = ax.imshow(cm, interpolation='nearest')\n",
    "ax.figure.colorbar(im, ax=ax)\n",
    "\n",
    "# Define the class labels\n",
    "classes = ['healthy', 'symptomatic or COVID']\n",
    "ax.set(\n",
    "    xticks=np.arange(len(classes)),\n",
    "    yticks=np.arange(len(classes)),\n",
    "    xticklabels=classes,\n",
    "    yticklabels=classes,\n",
    "    xlabel='Predicted label',\n",
    "    ylabel='True label',\n",
    "    title='Confusion Matrix'\n",
    ")\n",
    "\n",
    "# Rotate the tick labels and set their alignment\n",
    "plt.setp(ax.get_xticklabels(), rotation=45, ha=\"right\", rotation_mode=\"anchor\")\n",
    "\n",
    "# Annotate counts in each cell of the confusion matrix\n",
    "for i in range(len(classes)):\n",
    "    for j in range(len(classes)):\n",
    "        ax.text(j, i, cm[i, j], ha=\"center\", va=\"center\")\n",
    "\n",
    "plt.tight_layout()\n",
    "plt.show()"
   ]
  },
  {
   "cell_type": "code",
   "execution_count": null,
   "id": "66b511f1-c4be-4c6d-85b6-7818771232ac",
   "metadata": {},
   "outputs": [],
   "source": []
  }
 ],
 "metadata": {
  "kernelspec": {
   "display_name": "Python 3 (ipykernel)",
   "language": "python",
   "name": "python3"
  },
  "language_info": {
   "codemirror_mode": {
    "name": "ipython",
    "version": 3
   },
   "file_extension": ".py",
   "mimetype": "text/x-python",
   "name": "python",
   "nbconvert_exporter": "python",
   "pygments_lexer": "ipython3",
   "version": "3.11.5"
  }
 },
 "nbformat": 4,
 "nbformat_minor": 5
}
