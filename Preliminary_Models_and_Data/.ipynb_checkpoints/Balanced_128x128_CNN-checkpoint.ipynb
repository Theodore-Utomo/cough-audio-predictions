{
 "cells": [
  {
   "cell_type": "code",
   "execution_count": 33,
   "id": "236e5b62-0aeb-4237-844e-bfcff351c23b",
   "metadata": {},
   "outputs": [],
   "source": [
    "import os\n",
    "import pandas as pd\n",
    "import numpy as np\n",
    "from sklearn.model_selection import train_test_split\n",
    "from tensorflow.keras.preprocessing.image import load_img, img_to_array\n",
    "from tensorflow.keras.models import Sequential\n",
    "from tensorflow.keras.layers import Conv2D, MaxPooling2D, Flatten, Dense, Dropout, BatchNormalization, GlobalAveragePooling2D\n",
    "from tensorflow.keras.optimizers import Adam\n",
    "from tensorflow.keras.callbacks import EarlyStopping, ReduceLROnPlateau \n",
    "from tqdm import tqdm\n",
    "import glob\n",
    "import matplotlib.pyplot as plt\n",
    "import torch\n",
    "import torch.nn as nn\n",
    "import torch.nn.functional as F\n",
    "import random\n",
    "from sklearn.metrics import confusion_matrix, classification_report\n",
    "from torch.utils.data import Dataset, DataLoader\n",
    "from typing import Literal\n",
    "from pathlib import Path\n",
    "from PIL import Image"
   ]
  },
  {
   "cell_type": "code",
   "execution_count": 2,
   "id": "bfaf26bb-c04e-4eb1-9350-e34b392d0f16",
   "metadata": {},
   "outputs": [],
   "source": [
    "X = np.load(\"X_128x128.npy\", allow_pickle=True)\n",
    "y = np.load(\"y_128x128.npy\", allow_pickle=True)"
   ]
  },
  {
   "cell_type": "code",
   "execution_count": 3,
   "id": "25ad79b7-79c0-4b2f-8ae3-d1b5afc6ca43",
   "metadata": {},
   "outputs": [
    {
     "data": {
      "text/plain": [
       "array([1315, 15476, 3873], dtype=object)"
      ]
     },
     "execution_count": 3,
     "metadata": {},
     "output_type": "execute_result"
    }
   ],
   "source": [
    "np.sum(y, axis=0)"
   ]
  },
  {
   "cell_type": "code",
   "execution_count": 74,
   "id": "05bdff8f-9c11-4906-9f77-f12eccf296f9",
   "metadata": {},
   "outputs": [
    {
     "name": "stdout",
     "output_type": "stream",
     "text": [
      "new_y shape: (20664, 2)\n",
      "[[1 0]\n",
      " [1 0]\n",
      " [1 0]\n",
      " [1 0]\n",
      " [1 0]\n",
      " [0 1]\n",
      " [1 0]\n",
      " [1 0]\n",
      " [1 0]\n",
      " [0 1]]\n"
     ]
    }
   ],
   "source": [
    "# This cell one combines the covid and symptomatic into one binary class\n",
    "# 0 for COVID, 1 for Healthy, 2 for Symptomatic\n",
    "# An array of indices: 0, 1, or 2\n",
    "y_combined = np.argmax(y, axis=1)  \n",
    "\n",
    "# Combines symptomatic (2) and COVID (0) into one category (1), leave healthy as is, \"ill\" now mapped to 1 and healthy 0\n",
    "new_y = np.where(np.isin(y_combined, [0, 2]), 1, 0)  \n",
    "\n",
    "# One-hot encoding (2 classes: healthy vs symptomatic or COVID)\n",
    "new_y = np.array([[1, 0] if label == 0 else [0, 1] for label in new_y])\n",
    "\n",
    "# Sanity check\n",
    "print(f\"new_y shape: {new_y.shape}\")  # It should be (n_samples, 2)\n",
    "print(new_y[:10]) "
   ]
  },
  {
   "cell_type": "code",
   "execution_count": 83,
   "id": "99357029-4e91-47db-906f-b0d24db8d0a7",
   "metadata": {},
   "outputs": [
    {
     "name": "stdout",
     "output_type": "stream",
     "text": [
      "Total number of COVID or symptomatic cases: 5188\n",
      "Total number of COVID or symptomatic cases: 15476\n"
     ]
    }
   ],
   "source": [
    "# Sanity Check\n",
    "covid_and_symptomatic_sum = np.sum(new_y[:,1])\n",
    "\n",
    "print(f\"Total number of COVID or symptomatic cases: {covid_and_symptomatic_sum}\")\n",
    "\n",
    "healthy_sum = np.sum(new_y[:,0])\n",
    "\n",
    "print(f\"Total number of COVID or symptomatic cases: {healthy_sum}\")"
   ]
  },
  {
   "cell_type": "code",
   "execution_count": 80,
   "id": "b9fdc80c-dcab-4ada-ade2-a12fce322d0c",
   "metadata": {},
   "outputs": [
    {
     "name": "stdout",
     "output_type": "stream",
     "text": [
      "Sampled X shape: (10376, 128, 128, 3)\n",
      "Sampled y shape: (10376, 2)\n"
     ]
    }
   ],
   "source": [
    "# This code checks the number of samples and the shape for each class\n",
    "# Number of samples per label (set to 5188 for each class)\n",
    "samples_per_label = 5188\n",
    "\n",
    "X_sampled = []\n",
    "y_sampled = []\n",
    "\n",
    "# Find indices for symptomatic or COVID (second column of new_y is 1 for symptomatic or COVID)\n",
    "symptomatic_or_covid_indices = np.where(new_y[:, 1] == 1)[0]\n",
    "\n",
    "# Find indices for healthy (first column of new_y is 1 for healthy)\n",
    "healthy_indices = np.where(new_y[:, 0] == 1)[0]\n",
    "\n",
    "# Sample 5188 random cases for each class\n",
    "sampled_healthy_indices = np.random.choice(healthy_indices, samples_per_label, replace=False)\n",
    "sampled_symptomatic_or_covid_indices = np.random.choice(symptomatic_or_covid_indices, samples_per_label, replace=False)\n",
    "\n",
    "# Combine the sampled indices\n",
    "sampled_indices = np.concatenate([sampled_healthy_indices, sampled_symptomatic_or_covid_indices])\n",
    "\n",
    "# Select the corresponding X and y data using the sampled indices\n",
    "X_sampled = X[sampled_indices]\n",
    "y_sampled = new_y[sampled_indices]\n",
    "\n",
    "print(f\"Sampled X shape: {X_sampled.shape}\")\n",
    "print(f\"Sampled y shape: {y_sampled.shape}\")"
   ]
  },
  {
   "cell_type": "code",
   "execution_count": 85,
   "id": "fcf358f7-861c-42a2-bd6e-64f6c57ddf09",
   "metadata": {},
   "outputs": [
    {
     "name": "stderr",
     "output_type": "stream",
     "text": [
      "/Library/Frameworks/Python.framework/Versions/3.11/lib/python3.11/site-packages/keras/src/layers/convolutional/base_conv.py:107: UserWarning: Do not pass an `input_shape`/`input_dim` argument to a layer. When using Sequential models, prefer using an `Input(shape)` object as the first layer in the model instead.\n",
      "  super().__init__(activity_regularizer=activity_regularizer, **kwargs)\n"
     ]
    },
    {
     "name": "stdout",
     "output_type": "stream",
     "text": [
      "Epoch 1/30\n",
      "\u001b[1m234/234\u001b[0m \u001b[32m━━━━━━━━━━━━━━━━━━━━\u001b[0m\u001b[37m\u001b[0m \u001b[1m52s\u001b[0m 216ms/step - accuracy: 0.5104 - loss: 0.7330 - val_accuracy: 0.5217 - val_loss: 0.6933 - learning_rate: 5.0000e-04\n",
      "Epoch 2/30\n",
      "\u001b[1m234/234\u001b[0m \u001b[32m━━━━━━━━━━━━━━━━━━━━\u001b[0m\u001b[37m\u001b[0m \u001b[1m67s\u001b[0m 285ms/step - accuracy: 0.5025 - loss: 0.6994 - val_accuracy: 0.5217 - val_loss: 0.6953 - learning_rate: 5.0000e-04\n",
      "Epoch 3/30\n",
      "\u001b[1m234/234\u001b[0m \u001b[32m━━━━━━━━━━━━━━━━━━━━\u001b[0m\u001b[37m\u001b[0m \u001b[1m63s\u001b[0m 267ms/step - accuracy: 0.5228 - loss: 0.6934 - val_accuracy: 0.5060 - val_loss: 0.6933 - learning_rate: 5.0000e-04\n",
      "Epoch 4/30\n",
      "\u001b[1m234/234\u001b[0m \u001b[32m━━━━━━━━━━━━━━━━━━━━\u001b[0m\u001b[37m\u001b[0m \u001b[1m67s\u001b[0m 286ms/step - accuracy: 0.5097 - loss: 0.6932 - val_accuracy: 0.5205 - val_loss: 0.6924 - learning_rate: 1.5000e-04\n",
      "Epoch 5/30\n",
      "\u001b[1m234/234\u001b[0m \u001b[32m━━━━━━━━━━━━━━━━━━━━\u001b[0m\u001b[37m\u001b[0m \u001b[1m67s\u001b[0m 286ms/step - accuracy: 0.5276 - loss: 0.6920 - val_accuracy: 0.5277 - val_loss: 0.6909 - learning_rate: 1.5000e-04\n",
      "Epoch 6/30\n",
      "\u001b[1m234/234\u001b[0m \u001b[32m━━━━━━━━━━━━━━━━━━━━\u001b[0m\u001b[37m\u001b[0m \u001b[1m67s\u001b[0m 286ms/step - accuracy: 0.5109 - loss: 0.6942 - val_accuracy: 0.5277 - val_loss: 0.6905 - learning_rate: 1.5000e-04\n",
      "Epoch 7/30\n",
      "\u001b[1m234/234\u001b[0m \u001b[32m━━━━━━━━━━━━━━━━━━━━\u001b[0m\u001b[37m\u001b[0m \u001b[1m67s\u001b[0m 287ms/step - accuracy: 0.5171 - loss: 0.6930 - val_accuracy: 0.5470 - val_loss: 0.6901 - learning_rate: 1.5000e-04\n",
      "Epoch 8/30\n",
      "\u001b[1m234/234\u001b[0m \u001b[32m━━━━━━━━━━━━━━━━━━━━\u001b[0m\u001b[37m\u001b[0m \u001b[1m67s\u001b[0m 285ms/step - accuracy: 0.5310 - loss: 0.6905 - val_accuracy: 0.5386 - val_loss: 0.6899 - learning_rate: 1.5000e-04\n",
      "Epoch 9/30\n",
      "\u001b[1m234/234\u001b[0m \u001b[32m━━━━━━━━━━━━━━━━━━━━\u001b[0m\u001b[37m\u001b[0m \u001b[1m67s\u001b[0m 286ms/step - accuracy: 0.5405 - loss: 0.6904 - val_accuracy: 0.5265 - val_loss: 0.6900 - learning_rate: 1.5000e-04\n",
      "Epoch 10/30\n",
      "\u001b[1m234/234\u001b[0m \u001b[32m━━━━━━━━━━━━━━━━━━━━\u001b[0m\u001b[37m\u001b[0m \u001b[1m67s\u001b[0m 285ms/step - accuracy: 0.5125 - loss: 0.6931 - val_accuracy: 0.5277 - val_loss: 0.6908 - learning_rate: 1.5000e-04\n",
      "Epoch 11/30\n",
      "\u001b[1m234/234\u001b[0m \u001b[32m━━━━━━━━━━━━━━━━━━━━\u001b[0m\u001b[37m\u001b[0m \u001b[1m67s\u001b[0m 286ms/step - accuracy: 0.5240 - loss: 0.6908 - val_accuracy: 0.5145 - val_loss: 0.6917 - learning_rate: 4.5000e-05\n",
      "Epoch 12/30\n",
      "\u001b[1m234/234\u001b[0m \u001b[32m━━━━━━━━━━━━━━━━━━━━\u001b[0m\u001b[37m\u001b[0m \u001b[1m67s\u001b[0m 286ms/step - accuracy: 0.5339 - loss: 0.6900 - val_accuracy: 0.5157 - val_loss: 0.6914 - learning_rate: 4.5000e-05\n",
      "Epoch 13/30\n",
      "\u001b[1m234/234\u001b[0m \u001b[32m━━━━━━━━━━━━━━━━━━━━\u001b[0m\u001b[37m\u001b[0m \u001b[1m68s\u001b[0m 290ms/step - accuracy: 0.5298 - loss: 0.6902 - val_accuracy: 0.5229 - val_loss: 0.6907 - learning_rate: 1.3500e-05\n",
      "Epoch 14/30\n",
      "\u001b[1m234/234\u001b[0m \u001b[32m━━━━━━━━━━━━━━━━━━━━\u001b[0m\u001b[37m\u001b[0m \u001b[1m67s\u001b[0m 288ms/step - accuracy: 0.5302 - loss: 0.6904 - val_accuracy: 0.5205 - val_loss: 0.6907 - learning_rate: 1.3500e-05\n",
      "Epoch 15/30\n",
      "\u001b[1m234/234\u001b[0m \u001b[32m━━━━━━━━━━━━━━━━━━━━\u001b[0m\u001b[37m\u001b[0m \u001b[1m68s\u001b[0m 290ms/step - accuracy: 0.5380 - loss: 0.6892 - val_accuracy: 0.5217 - val_loss: 0.6908 - learning_rate: 4.0500e-06\n",
      "\u001b[1m65/65\u001b[0m \u001b[32m━━━━━━━━━━━━━━━━━━━━\u001b[0m\u001b[37m\u001b[0m \u001b[1m4s\u001b[0m 63ms/step - accuracy: 0.5385 - loss: 0.6898\n",
      "Test Accuracy: 53.03%\n"
     ]
    }
   ],
   "source": [
    "# This cell intializes, trains and evaluates a preliminary model\n",
    "from tensorflow.keras.callbacks import ReduceLROnPlateau, EarlyStopping\n",
    "from tensorflow.keras.optimizers import Adam\n",
    "\n",
    "# CNN Model Definition\n",
    "model = Sequential([\n",
    "    # First Convolutional Layer\n",
    "    Conv2D(32, (3, 3), activation='relu', input_shape=(128, 128, 3)),\n",
    "    BatchNormalization(),\n",
    "    MaxPooling2D(2, 2),\n",
    "\n",
    "    # Second Convolutional Layer\n",
    "    Conv2D(64, (3, 3), activation='relu'),\n",
    "    BatchNormalization(),\n",
    "    MaxPooling2D(2, 2),\n",
    "\n",
    "    # Third Convolutional Layer\n",
    "    Conv2D(128, (3, 3), activation='relu'),\n",
    "    BatchNormalization(),\n",
    "    MaxPooling2D(2, 2),\n",
    "\n",
    "    # Global Average Pooling instead of Flattening\n",
    "    GlobalAveragePooling2D(),\n",
    "    \n",
    "    # Dropout to prevent overfitting\n",
    "    Dropout(0.5),  # Increase dropout\n",
    "\n",
    "    # Fully Connected Layer\n",
    "    Dense(128, activation='relu'),\n",
    "    \n",
    "    # Output Layer (2 classes: healthy and symptomatic_or_COVID)\n",
    "    Dense(2, activation='softmax')\n",
    "])\n",
    "\n",
    "model.compile(optimizer=Adam(learning_rate=0.0005), loss='categorical_crossentropy', metrics=['accuracy'])  # Lower learning rate\n",
    "\n",
    "# Early Stopping Callback \n",
    "early_stopping = EarlyStopping(\n",
    "    monitor='val_loss',  # Monitors validation loss\n",
    "    patience=7,  # Patience (7 epochs)\n",
    "    restore_best_weights=True\n",
    ")\n",
    "\n",
    "# Learning Rate Scheduling\n",
    "reduce_lr = ReduceLROnPlateau(\n",
    "    monitor='val_loss', \n",
    "    factor=0.3,  # Reduce learning rate by 30%\n",
    "    patience=2,  # Wait for 2 epochs without improvement before reducing LR\n",
    "    min_lr=1e-6  # Lower bound for the learning rate\n",
    ")\n",
    "\n",
    "# Train the Model with Class Weights \n",
    "history = model.fit(\n",
    "    X_train, y_train,\n",
    "    epochs=30,  # Higher epochs to see if it learns better\n",
    "    batch_size=32,\n",
    "    validation_split=0.1,\n",
    "    callbacks=[early_stopping, reduce_lr]\n",
    ")\n",
    "\n",
    "# Evaluate Model \n",
    "loss, acc = model.evaluate(X_test, y_test)\n",
    "print(f\"Test Accuracy: {acc:.2%}\")"
   ]
  },
  {
   "cell_type": "code",
   "execution_count": 86,
   "id": "ea9c5081-29b0-42fd-a114-2591b9009592",
   "metadata": {},
   "outputs": [
    {
     "name": "stdout",
     "output_type": "stream",
     "text": [
      "\u001b[1m65/65\u001b[0m \u001b[32m━━━━━━━━━━━━━━━━━━━━\u001b[0m\u001b[37m\u001b[0m \u001b[1m4s\u001b[0m 61ms/step\n",
      "Classification Report:\n",
      "                      precision    recall  f1-score   support\n",
      "\n",
      "             healthy       0.52      0.66      0.58      1038\n",
      "symptomatic or COVID       0.54      0.40      0.46      1038\n",
      "\n",
      "            accuracy                           0.53      2076\n",
      "           macro avg       0.53      0.53      0.52      2076\n",
      "        weighted avg       0.53      0.53      0.52      2076\n",
      "\n"
     ]
    },
    {
     "data": {
      "image/png": "[encoded data removed]",
      "text/plain": [
       "<Figure size 640x480 with 2 Axes>"
      ]
     },
     "metadata": {},
     "output_type": "display_data"
    }
   ],
   "source": [
    "# This cell evaluates the model through a confusion report\n",
    "# Get predictions from the model\n",
    "y_pred = model.predict(X_test)  # Predict on X_test\n",
    "y_pred_classes = np.argmax(y_pred, axis=1)  # Get class predictions (argmax for the softmax output)\n",
    "\n",
    "y_test_classes = np.argmax(y_test, axis=1)\n",
    "\n",
    "# Computes confusion matrix \n",
    "cm = confusion_matrix(y_test_classes, y_pred_classes)\n",
    "\n",
    "print(\"Classification Report:\")\n",
    "print(classification_report(\n",
    "    y_test_classes,\n",
    "    y_pred_classes,\n",
    "    target_names=['healthy', 'symptomatic or COVID']\n",
    "))\n",
    "\n",
    "# Plot the confusion matrix \n",
    "fig, ax = plt.subplots()\n",
    "im = ax.imshow(cm, interpolation='nearest')\n",
    "ax.figure.colorbar(im, ax=ax)\n",
    "\n",
    "# Defines the class labels\n",
    "classes = ['healthy', 'symptomatic or COVID']\n",
    "ax.set(\n",
    "    xticks=np.arange(len(classes)),\n",
    "    yticks=np.arange(len(classes)),\n",
    "    xticklabels=classes,\n",
    "    yticklabels=classes,\n",
    "    xlabel='Predicted label',\n",
    "    ylabel='True label',\n",
    "    title='Confusion Matrix'\n",
    ")\n",
    "\n",
    "# Rotate the tick labels and set their alignment\n",
    "plt.setp(ax.get_xticklabels(), rotation=45, ha=\"right\", rotation_mode=\"anchor\")\n",
    "\n",
    "# Annotate counts in each cell of the confusion matrix\n",
    "for i in range(len(classes)):\n",
    "    for j in range(len(classes)):\n",
    "        ax.text(j, i, cm[i, j], ha=\"center\", va=\"center\")\n",
    "\n",
    "plt.tight_layout()\n",
    "plt.show()"
   ]
  },
  {
   "cell_type": "code",
   "execution_count": null,
   "id": "d1cd6747-d6cd-4a9d-a6d5-aa6f6bc50a3b",
   "metadata": {},
   "outputs": [],
   "source": []
  }
 ],
 "metadata": {
  "kernelspec": {
   "display_name": "Python 3 (ipykernel)",
   "language": "python",
   "name": "python3"
  },
  "language_info": {
   "codemirror_mode": {
    "name": "ipython",
    "version": 3
   },
   "file_extension": ".py",
   "mimetype": "text/x-python",
   "name": "python",
   "nbconvert_exporter": "python",
   "pygments_lexer": "ipython3",
   "version": "3.9.19"
  }
 },
 "nbformat": 4,
 "nbformat_minor": 5
}
