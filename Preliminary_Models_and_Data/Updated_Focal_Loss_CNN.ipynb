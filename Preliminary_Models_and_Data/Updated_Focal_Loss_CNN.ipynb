{
 "cells": [
  {
   "cell_type": "code",
   "execution_count": 7,
   "id": "45dc5976-a483-4f90-b550-fe15b5af1c3c",
   "metadata": {},
   "outputs": [],
   "source": [
    "import os\n",
    "import pandas as pd\n",
    "import numpy as np\n",
    "from sklearn.model_selection import train_test_split\n",
    "from tensorflow.keras import backend as K\n",
    "from tensorflow.keras.preprocessing.image import load_img, img_to_array\n",
    "from tensorflow.keras.models import Sequential\n",
    "from tensorflow.keras.layers import Conv2D, MaxPooling2D, Flatten, Dense, Dropout, BatchNormalization, GlobalAveragePooling2D\n",
    "from tensorflow.keras.optimizers import Adam\n",
    "from tensorflow.keras.callbacks import EarlyStopping, ReduceLROnPlateau  # Added ReduceLROnPlateau for learning rate scheduling\n",
    "from tqdm import tqdm\n",
    "import glob\n",
    "import matplotlib.pyplot as plt\n",
    "import torch\n",
    "import torch.nn as nn\n",
    "import torch.nn.functional as F\n",
    "import random\n",
    "from sklearn.metrics import confusion_matrix, classification_report\n",
    "from sklearn.utils.class_weight import compute_class_weight\n",
    "from torch.utils.data import Dataset, DataLoader\n",
    "from typing import Literal\n",
    "from pathlib import Path\n",
    "from PIL import Image"
   ]
  },
  {
   "cell_type": "code",
   "execution_count": 9,
   "id": "8d07a8bf-935b-4a73-80b3-e86a6e76c29b",
   "metadata": {},
   "outputs": [],
   "source": [
    "def evaluate_model():\n",
    "    y_pred = model.predict(X_test)  \n",
    "    y_pred_classes = np.argmax(y_pred, axis=1)  \n",
    "    \n",
    "    y_test_classes = np.argmax(y_test, axis=1)\n",
    "    \n",
    "    cm = confusion_matrix(y_test_classes, y_pred_classes)\n",
    "    \n",
    "    print(\"Classification Report:\")\n",
    "    print(classification_report(\n",
    "        y_test_classes,\n",
    "        y_pred_classes,\n",
    "        target_names=['healthy', 'symptomatic or COVID']\n",
    "    ))\n",
    "    \n",
    "    fig, ax = plt.subplots()\n",
    "    im = ax.imshow(cm, interpolation='nearest')\n",
    "    ax.figure.colorbar(im, ax=ax)\n",
    "    \n",
    "    classes = ['healthy', 'symptomatic or COVID']\n",
    "    ax.set(\n",
    "        xticks=np.arange(len(classes)),\n",
    "        yticks=np.arange(len(classes)),\n",
    "        xticklabels=classes,\n",
    "        yticklabels=classes,\n",
    "        xlabel='Predicted label',\n",
    "        ylabel='True label',\n",
    "        title='Confusion Matrix'\n",
    "    )\n",
    "    \n",
    "    plt.setp(ax.get_xticklabels(), rotation=45, ha=\"right\", rotation_mode=\"anchor\")\n",
    "    \n",
    "    for i in range(len(classes)):\n",
    "        for j in range(len(classes)):\n",
    "            ax.text(j, i, cm[i, j], ha=\"center\", va=\"center\")\n",
    "    \n",
    "    plt.tight_layout()\n",
    "    plt.show()"
   ]
  },
  {
   "cell_type": "code",
   "execution_count": 4,
   "id": "24f4e84a-14d9-4e4a-a2c0-b6767e89fa2e",
   "metadata": {},
   "outputs": [
    {
     "name": "stdout",
     "output_type": "stream",
     "text": [
      "new_y shape: (20664, 2)\n",
      "[[1 0]\n",
      " [1 0]\n",
      " [1 0]\n",
      " [1 0]\n",
      " [1 0]\n",
      " [0 1]\n",
      " [1 0]\n",
      " [1 0]\n",
      " [1 0]\n",
      " [0 1]]\n",
      "Total number of COVID or symptomatic cases: 5188\n",
      "Total number of healthy cases: 15476\n"
     ]
    }
   ],
   "source": [
    "X = np.load(\"X_128x128.npy\", allow_pickle=True)\n",
    "y = np.load(\"y_128x128.npy\", allow_pickle=True)\n",
    "np.sum(y, axis=0)\n",
    "\n",
    "y_combined = np.argmax(y, axis=1)  \n",
    "\n",
    "new_y = np.where(np.isin(y_combined, [0, 2]), 1, 0)  \n",
    "\n",
    "new_y = np.array([[1, 0] if label == 0 else [0, 1] for label in new_y])\n",
    "\n",
    "print(f\"new_y shape: {new_y.shape}\")  \n",
    "print(new_y[:10])  \n",
    "\n",
    "covid_and_symptomatic_sum = np.sum(new_y[:,1])\n",
    "\n",
    "print(f\"Total number of COVID or symptomatic cases: {covid_and_symptomatic_sum}\")\n",
    "\n",
    "healthy_sum = np.sum(new_y[:,0])\n",
    "\n",
    "print(f\"Total number of healthy cases: {healthy_sum}\")"
   ]
  },
  {
   "cell_type": "code",
   "execution_count": 5,
   "id": "d3504a19-4bfc-44e9-9b87-fa22c2691ccb",
   "metadata": {},
   "outputs": [],
   "source": [
    "# Train-test split \n",
    "X_train, X_test, y_train, y_test = train_test_split(\n",
    "    X, new_y, test_size=0.2, stratify=y.argmax(axis=1), random_state=42\n",
    ")\n",
    "\n",
    "# Convert X and y to appropriate formats \n",
    "X_train = np.array(X_train, dtype=np.float32)\n",
    "X_test = np.array(X_test, dtype=np.float32)\n",
    "y_train = np.array(y_train, dtype=np.float32)\n",
    "y_test = np.array(y_test, dtype=np.float32)"
   ]
  },
  {
   "cell_type": "code",
   "execution_count": 11,
   "id": "08095beb-1866-4ab8-b08b-caef1c94d650",
   "metadata": {},
   "outputs": [
    {
     "name": "stderr",
     "output_type": "stream",
     "text": [
      "/Library/Frameworks/Python.framework/Versions/3.11/lib/python3.11/site-packages/keras/src/layers/convolutional/base_conv.py:107: UserWarning: Do not pass an `input_shape`/`input_dim` argument to a layer. When using Sequential models, prefer using an `Input(shape)` object as the first layer in the model instead.\n",
      "  super().__init__(activity_regularizer=activity_regularizer, **kwargs)\n"
     ]
    },
    {
     "name": "stdout",
     "output_type": "stream",
     "text": [
      "Epoch 1/30\n",
      "\u001b[1m465/465\u001b[0m \u001b[32m━━━━━━━━━━━━━━━━━━━━\u001b[0m\u001b[37m\u001b[0m \u001b[1m89s\u001b[0m 190ms/step - accuracy: 0.4363 - loss: 0.0822 - val_accuracy: 0.2491 - val_loss: 0.0791 - learning_rate: 5.0000e-04\n",
      "Epoch 2/30\n",
      "\u001b[1m465/465\u001b[0m \u001b[32m━━━━━━━━━━━━━━━━━━━━\u001b[0m\u001b[37m\u001b[0m \u001b[1m85s\u001b[0m 183ms/step - accuracy: 0.3608 - loss: 0.0737 - val_accuracy: 0.5659 - val_loss: 0.0726 - learning_rate: 5.0000e-04\n",
      "Epoch 3/30\n",
      "\u001b[1m465/465\u001b[0m \u001b[32m━━━━━━━━━━━━━━━━━━━━\u001b[0m\u001b[37m\u001b[0m \u001b[1m81s\u001b[0m 175ms/step - accuracy: 0.3524 - loss: 0.0728 - val_accuracy: 0.2491 - val_loss: 0.0781 - learning_rate: 5.0000e-04\n",
      "Epoch 4/30\n",
      "\u001b[1m465/465\u001b[0m \u001b[32m━━━━━━━━━━━━━━━━━━━━\u001b[0m\u001b[37m\u001b[0m \u001b[1m89s\u001b[0m 191ms/step - accuracy: 0.3330 - loss: 0.0723 - val_accuracy: 0.2890 - val_loss: 0.0759 - learning_rate: 5.0000e-04\n",
      "Epoch 5/30\n",
      "\u001b[1m465/465\u001b[0m \u001b[32m━━━━━━━━━━━━━━━━━━━━\u001b[0m\u001b[37m\u001b[0m \u001b[1m84s\u001b[0m 180ms/step - accuracy: 0.2852 - loss: 0.0725 - val_accuracy: 0.3875 - val_loss: 0.0753 - learning_rate: 1.5000e-04\n",
      "Epoch 6/30\n",
      "\u001b[1m465/465\u001b[0m \u001b[32m━━━━━━━━━━━━━━━━━━━━\u001b[0m\u001b[37m\u001b[0m \u001b[1m84s\u001b[0m 180ms/step - accuracy: 0.3265 - loss: 0.0720 - val_accuracy: 0.2963 - val_loss: 0.0779 - learning_rate: 1.5000e-04\n",
      "Epoch 7/30\n",
      "\u001b[1m465/465\u001b[0m \u001b[32m━━━━━━━━━━━━━━━━━━━━\u001b[0m\u001b[37m\u001b[0m \u001b[1m83s\u001b[0m 178ms/step - accuracy: 0.2897 - loss: 0.0722 - val_accuracy: 0.3392 - val_loss: 0.0768 - learning_rate: 4.5000e-05\n",
      "Epoch 8/30\n",
      "\u001b[1m465/465\u001b[0m \u001b[32m━━━━━━━━━━━━━━━━━━━━\u001b[0m\u001b[37m\u001b[0m \u001b[1m82s\u001b[0m 176ms/step - accuracy: 0.2990 - loss: 0.0723 - val_accuracy: 0.3797 - val_loss: 0.0757 - learning_rate: 4.5000e-05\n",
      "Epoch 9/30\n",
      "\u001b[1m465/465\u001b[0m \u001b[32m━━━━━━━━━━━━━━━━━━━━\u001b[0m\u001b[37m\u001b[0m \u001b[1m87s\u001b[0m 187ms/step - accuracy: 0.3033 - loss: 0.0721 - val_accuracy: 0.3779 - val_loss: 0.0757 - learning_rate: 1.3500e-05\n",
      "\u001b[1m130/130\u001b[0m \u001b[32m━━━━━━━━━━━━━━━━━━━━\u001b[0m\u001b[37m\u001b[0m \u001b[1m5s\u001b[0m 38ms/step - accuracy: 0.5233 - loss: 0.0728\n",
      "Test Accuracy: 53.62%\n"
     ]
    }
   ],
   "source": [
    "# Focal Loss function\n",
    "def focal_loss(gamma=2., alpha=0.25):\n",
    "    def focal_loss_fixed(y_true, y_pred):\n",
    "        # Clip predictions to prevent NaN's and Inf's\n",
    "        y_pred = K.clip(y_pred, K.epsilon(), 1. - K.epsilon())\n",
    "        \n",
    "        # Calculate cross-entropy\n",
    "        cross_entropy = -y_true * K.log(y_pred)\n",
    "        \n",
    "        # Apply the focal loss formula\n",
    "        loss = alpha * K.pow(1 - y_pred, gamma) * cross_entropy\n",
    "        return K.sum(loss, axis=-1)\n",
    "    \n",
    "    return focal_loss_fixed\n",
    "\n",
    "# === CNN Model Definition ===\n",
    "model = Sequential([\n",
    "    # First Convolutional Layer\n",
    "    Conv2D(32, (3, 3), activation='relu', input_shape=(128, 128, 3)),\n",
    "    BatchNormalization(),\n",
    "    MaxPooling2D(2, 2),\n",
    "\n",
    "    # Second Convolutional Layer\n",
    "    Conv2D(64, (3, 3), activation='relu'),\n",
    "    BatchNormalization(),\n",
    "    MaxPooling2D(2, 2),\n",
    "\n",
    "    # Third Convolutional Layer\n",
    "    Conv2D(128, (3, 3), activation='relu'),\n",
    "    BatchNormalization(),\n",
    "    MaxPooling2D(2, 2),\n",
    "\n",
    "    # Global Average Pooling instead of Flattening\n",
    "    GlobalAveragePooling2D(),\n",
    "    \n",
    "    # Dropout to prevent overfitting\n",
    "    Dropout(0.5),  # Increase dropout\n",
    "\n",
    "    # Fully Connected Layer\n",
    "    Dense(128, activation='relu'),\n",
    "    \n",
    "    # Output Layer (2 classes: healthy and symptomatic_or_COVID)\n",
    "    Dense(2, activation='softmax')\n",
    "])\n",
    "\n",
    "class_weights = {0: .6, 1: 2.2}  # Healthy: 0, Symptomatic or COVID: 2\n",
    "\n",
    "model.compile(optimizer=Adam(learning_rate=0.0005), loss=focal_loss(gamma=1.25, alpha=0.25), metrics=['accuracy'])\n",
    "\n",
    "early_stopping = EarlyStopping(\n",
    "    monitor='val_loss',  \n",
    "    patience=7,  \n",
    "    restore_best_weights=True\n",
    ")\n",
    "\n",
    "# Learning Rate Scheduling \n",
    "reduce_lr = ReduceLROnPlateau(\n",
    "    monitor='val_loss', \n",
    "    factor=0.3,  \n",
    "    patience=2,  \n",
    "    min_lr=1e-6 \n",
    ")\n",
    "\n",
    "history = model.fit(\n",
    "    X_train, y_train,\n",
    "    epochs=30,  # Use a higher number of epochs\n",
    "    batch_size=32,\n",
    "    validation_split=0.1,\n",
    "    class_weight=class_weights, \n",
    "    callbacks=[early_stopping, reduce_lr]\n",
    ")\n",
    "\n",
    "loss, acc = model.evaluate(X_test, y_test)\n",
    "print(f\"Test Accuracy: {acc:.2%}\")"
   ]
  },
  {
   "cell_type": "code",
   "execution_count": 12,
   "id": "67b3ada4-f6e8-4815-98f6-be8954dda52b",
   "metadata": {},
   "outputs": [
    {
     "name": "stdout",
     "output_type": "stream",
     "text": [
      "\u001b[1m130/130\u001b[0m \u001b[32m━━━━━━━━━━━━━━━━━━━━\u001b[0m\u001b[37m\u001b[0m \u001b[1m5s\u001b[0m 38ms/step\n",
      "Classification Report:\n",
      "                      precision    recall  f1-score   support\n",
      "\n",
      "             healthy       0.76      0.56      0.64      3095\n",
      "symptomatic or COVID       0.26      0.46      0.33      1038\n",
      "\n",
      "            accuracy                           0.54      4133\n",
      "           macro avg       0.51      0.51      0.49      4133\n",
      "        weighted avg       0.63      0.54      0.57      4133\n",
      "\n"
     ]
    },
    {
     "data": {
      "image/png": "[encoded data removed]",
      "text/plain": [
       "<Figure size 640x480 with 2 Axes>"
      ]
     },
     "metadata": {},
     "output_type": "display_data"
    }
   ],
   "source": [
    "evaluate_model()"
   ]
  },
  {
   "cell_type": "code",
   "execution_count": null,
   "id": "db1b93d8-1caf-4bcf-a55d-649c05cb72aa",
   "metadata": {},
   "outputs": [],
   "source": []
  }
 ],
 "metadata": {
  "kernelspec": {
   "display_name": "Python 3 (ipykernel)",
   "language": "python",
   "name": "python3"
  },
  "language_info": {
   "codemirror_mode": {
    "name": "ipython",
    "version": 3
   },
   "file_extension": ".py",
   "mimetype": "text/x-python",
   "name": "python",
   "nbconvert_exporter": "python",
   "pygments_lexer": "ipython3",
   "version": "3.9.19"
  }
 },
 "nbformat": 4,
 "nbformat_minor": 5
}
